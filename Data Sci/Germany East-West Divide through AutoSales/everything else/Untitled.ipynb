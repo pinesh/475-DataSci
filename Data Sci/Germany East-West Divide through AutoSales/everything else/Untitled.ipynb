{
 "cells": [
  {
   "cell_type": "code",
   "execution_count": 2,
   "metadata": {},
   "outputs": [
    {
     "data": {
      "text/plain": [
       "[1, 2, 3, 4, 10]"
      ]
     },
     "execution_count": 2,
     "metadata": {},
     "output_type": "execute_result"
    }
   ],
   "source": [
    "x = 0\n",
    "def mystery(l):\n",
    "    def mysteryX(a):\n",
    "        global x\n",
    "        if a > x:\n",
    "            x=a\n",
    "            return True\n",
    "        else:\n",
    "            return False\n",
    "    return list(filter(mysteryX,l))\n",
    "\n",
    "mystery([1,2,3,3,4,4,3,2,1,10])"
   ]
  },
  {
   "cell_type": "code",
   "execution_count": 3,
   "metadata": {},
   "outputs": [],
   "source": [
    "def interesting(func):\n",
    "    def hmm(n):\n",
    "        return func(func(n))\n",
    "    return hmm\n",
    "\n",
    "def myfunction(n):\n",
    "    return n*n\n",
    "    \n",
    "    \n",
    "test = interesting(myfunction)"
   ]
  },
  {
   "cell_type": "code",
   "execution_count": 67,
   "metadata": {},
   "outputs": [
    {
     "data": {
      "text/plain": [
       "10000"
      ]
     },
     "execution_count": 67,
     "metadata": {},
     "output_type": "execute_result"
    }
   ],
   "source": [
    "test(10)"
   ]
  },
  {
   "cell_type": "code",
   "execution_count": null,
   "metadata": {},
   "outputs": [],
   "source": []
  },
  {
   "cell_type": "code",
   "execution_count": 34,
   "metadata": {},
   "outputs": [],
   "source": [
    "def getMajor(course):\n",
    "    return course[:len(course)-3] \n",
    "def getAverages(grades):\n",
    "    d = {}\n",
    "    for key in grades:\n",
    "        d.setdefault(getMajor(key), []).append(grades[key]) \n",
    "    for key in d:\n",
    "        d[key] = sum(d[key]) / len(d[key])\n",
    "    return d"
   ]
  },
  {
   "cell_type": "code",
   "execution_count": 35,
   "metadata": {},
   "outputs": [
    {
     "data": {
      "text/plain": [
       "{'MATH': 3.5, 'EE': 3.3, 'CptS': 3.25}"
      ]
     },
     "execution_count": 35,
     "metadata": {},
     "output_type": "execute_result"
    }
   ],
   "source": [
    "grades = {'MATH171':4, 'MATH172':3, 'EE214':3.3, 'CptS355':2.5, 'CptS322':4}\n",
    "getAverages(grades)\n",
    "\n"
   ]
  },
  {
   "cell_type": "code",
   "execution_count": 41,
   "metadata": {},
   "outputs": [],
   "source": [
    "class mysteryIter(object):\n",
    "    def __init__(self,input1,input2):\n",
    "        self.input1 = input1\n",
    "        self.input2 = input2\n",
    "        self.current = self.input2.get(self.input1.__next__(),'-')\n",
    "    def __next__(self):\n",
    "        if self.current is None:\n",
    "            raise StopIteration\n",
    "        self.current = self.input2.get(self.input1.__next__(),'-')\n",
    "        return self.current\n",
    "    def __iter__(self):\n",
    "        return self\n",
    "    \n",
    "            "
   ]
  },
  {
   "cell_type": "code",
   "execution_count": 53,
   "metadata": {},
   "outputs": [
    {
     "name": "stdout",
     "output_type": "stream",
     "text": [
      "[3, 3.3, 2.5, 4]\n",
      "['-', 3.3, 2.5, 4]\n"
     ]
    }
   ],
   "source": [
    "it1 = mysteryIter(iter(['a','b','c','d','e']),{'1':4, 'b':3, 'c':3.3, 'd':2.5, 'e':4})\n",
    "it2 = mysteryIter(iter(['1','2','c','d','e']),{'1':4, 'b':3, 'c':3.3, 'd':2.5, 'e':4})\n",
    "print(list(it1))\n",
    "print(list(it2))"
   ]
  },
  {
   "cell_type": "code",
   "execution_count": 65,
   "metadata": {},
   "outputs": [
    {
     "data": {
      "text/plain": [
       "['abc', 'ab', '123']"
      ]
     },
     "execution_count": 65,
     "metadata": {},
     "output_type": "execute_result"
    }
   ],
   "source": [
    "def mystery(L,n):\n",
    "    temp = map(lambda x: (len(x),x),L)\n",
    "    result = filter((lambda x: x[0] > n),temp)\n",
    "    return list(map(lambda x:x[1],result))\n",
    "mystery(['abc','ab','123'],1)"
   ]
  },
  {
   "cell_type": "code",
   "execution_count": null,
   "metadata": {},
   "outputs": [],
   "source": []
  }
 ],
 "metadata": {
  "kernelspec": {
   "display_name": "Python 3",
   "language": "python",
   "name": "python3"
  },
  "language_info": {
   "codemirror_mode": {
    "name": "ipython",
    "version": 3
   },
   "file_extension": ".py",
   "mimetype": "text/x-python",
   "name": "python",
   "nbconvert_exporter": "python",
   "pygments_lexer": "ipython3",
   "version": "3.7.4"
  }
 },
 "nbformat": 4,
 "nbformat_minor": 4
}
